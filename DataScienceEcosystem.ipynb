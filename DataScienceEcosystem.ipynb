{
 "cells": [
  {
   "cell_type": "markdown",
   "id": "de0b1a0a",
   "metadata": {},
   "source": [
    "# Data Science Tools and Ecosystem\n"
   ]
  },
  {
   "cell_type": "markdown",
   "id": "05f418c2",
   "metadata": {},
   "source": [
    "In this notebook you will find some cool and interesting features of jupyter notebooks"
   ]
  },
  {
   "cell_type": "markdown",
   "id": "554eb644",
   "metadata": {},
   "source": [
    "### Some of the popular languages used by Data Scientists are:\n",
    "1. Python\n",
    "2. R\n",
    "3. SQL"
   ]
  },
  {
   "cell_type": "markdown",
   "id": "25581b33",
   "metadata": {},
   "source": [
    "### Some of the common data science libraries are:\n",
    "\n",
    "- Pandas\n",
    "- Numpy\n",
    "- Matplotlib"
   ]
  },
  {
   "cell_type": "markdown",
   "id": "8c5a78b2",
   "metadata": {},
   "source": [
    "### Data Science Tools\n",
    "\n",
    "- Jupyter Notebooks\n",
    "- Rstudio\n",
    "- Spyder"
   ]
  },
  {
   "cell_type": "markdown",
   "id": "ad45bc1e",
   "metadata": {},
   "source": [
    "### Below are examples of evaluating arithmetic expressions in python"
   ]
  },
  {
   "cell_type": "code",
   "execution_count": 1,
   "id": "90351dc3",
   "metadata": {},
   "outputs": [
    {
     "data": {
      "text/plain": [
       "17"
      ]
     },
     "execution_count": 1,
     "metadata": {},
     "output_type": "execute_result"
    }
   ],
   "source": [
    "(3*4)+5"
   ]
  },
  {
   "cell_type": "code",
   "execution_count": 4,
   "id": "70e35e05",
   "metadata": {},
   "outputs": [
    {
     "name": "stdout",
     "output_type": "stream",
     "text": [
      "3.33 hours\n"
     ]
    }
   ],
   "source": [
    "# This will convert 200 mins into hours\n",
    "\n",
    "print(round(200/60,2),\"hours\")"
   ]
  },
  {
   "cell_type": "markdown",
   "id": "9a3ed7c6",
   "metadata": {},
   "source": [
    "### Objectives\n",
    "\n",
    "- Some popular data science languages\n",
    "- Common data science libraries\n",
    "- Popular data science tools\n",
    "- Math expressions in jupyter notebook using python"
   ]
  },
  {
   "cell_type": "markdown",
   "id": "bd610e7b",
   "metadata": {},
   "source": [
    "## Author\n",
    "Spandan"
   ]
  },
  {
   "cell_type": "code",
   "execution_count": null,
   "id": "a756647a",
   "metadata": {},
   "outputs": [],
   "source": []
  }
 ],
 "metadata": {
  "kernelspec": {
   "display_name": "Python 3",
   "language": "python",
   "name": "python3"
  },
  "language_info": {
   "codemirror_mode": {
    "name": "ipython",
    "version": 3
   },
   "file_extension": ".py",
   "mimetype": "text/x-python",
   "name": "python",
   "nbconvert_exporter": "python",
   "pygments_lexer": "ipython3",
   "version": "3.8.8"
  }
 },
 "nbformat": 4,
 "nbformat_minor": 5
}
